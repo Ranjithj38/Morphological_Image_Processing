{
 "cells": [
  {
   "cell_type": "code",
   "execution_count": 1,
   "id": "ee309963-a1f0-42de-8165-430d623a0767",
   "metadata": {},
   "outputs": [
    {
     "name": "stdout",
     "output_type": "stream",
     "text": [
      "Eroded -> SSIM: 0.5279, IoU: 0.7886\n",
      "Dilated -> SSIM: 0.5326, IoU: 0.8250\n",
      "Opened -> SSIM: 0.8986, IoU: 0.9622\n",
      "Closed -> SSIM: 0.8736, IoU: 0.9579\n",
      "\n",
      "✅ Most accurate result: Opened (SSIM: 0.8986, IoU: 0.9622)\n"
     ]
    }
   ],
   "source": [
    "import cv2\n",
    "import numpy as np\n",
    "from skimage.metrics import structural_similarity as ssim\n",
    "from sklearn.metrics import jaccard_score\n",
    "\n",
    "# Load the grayscale fingerprint image\n",
    "image = cv2.imread('abcd.jpg', cv2.IMREAD_GRAYSCALE)\n",
    "if image is None:\n",
    "    raise FileNotFoundError(\"Error: 'abcd.jpg' not found.\")\n",
    "\n",
    "# Convert to binary\n",
    "_, binary = cv2.threshold(image, 127, 255, cv2.THRESH_BINARY)\n",
    "\n",
    "# Define kernel for morphological operations\n",
    "kernel = np.ones((3, 3), np.uint8)\n",
    "\n",
    "# Apply morphological operations\n",
    "operations = {\n",
    "    \"Eroded\": cv2.erode(binary, kernel, iterations=1),\n",
    "    \"Dilated\": cv2.dilate(binary, kernel, iterations=1),\n",
    "    \"Opened\": cv2.morphologyEx(binary, cv2.MORPH_OPEN, kernel),\n",
    "    \"Closed\": cv2.morphologyEx(binary, cv2.MORPH_CLOSE, kernel),\n",
    "}\n",
    "\n",
    "# Evaluation function\n",
    "def evaluate(img, gt):\n",
    "    result_flat = img.flatten() // 255\n",
    "    gt_flat = gt.flatten() // 255\n",
    "    ssim_score = ssim(gt, img)\n",
    "    iou_score = jaccard_score(gt_flat, result_flat)\n",
    "    return ssim_score, iou_score\n",
    "\n",
    "# Evaluate all processed results\n",
    "scores = {}\n",
    "for name, img in operations.items():\n",
    "    ssim_score, iou_score = evaluate(img, binary)\n",
    "    scores[name] = (ssim_score, iou_score)\n",
    "    print(f\"{name} -> SSIM: {ssim_score:.4f}, IoU: {iou_score:.4f}\")\n",
    "\n",
    "# Identify the best match based on SSIM and IoU\n",
    "best_name, (best_ssim, best_iou) = max(scores.items(), key=lambda x: (x[1][0], x[1][1]))\n",
    "best_img = operations[best_name]\n",
    "print(f\"\\n✅ Most accurate result: {best_name} (SSIM: {best_ssim:.4f}, IoU: {best_iou:.4f})\")\n",
    "\n",
    "# Annotate the best result with an arrow and text\n",
    "annotated = cv2.cvtColor(best_img, cv2.COLOR_GRAY2BGR)\n",
    "arrow_start = (20, 20)\n",
    "arrow_end = (100, 100)\n",
    "cv2.arrowedLine(annotated, arrow_start, arrow_end, (0, 0, 255), 2, tipLength=0.3)\n",
    "cv2.putText(annotated, f\"Best: {best_name}\", (arrow_end[0] + 10, arrow_end[1]),\n",
    "            cv2.FONT_HERSHEY_SIMPLEX, 0.6, (0, 0, 255), 2)\n",
    "\n",
    "# Display all images\n",
    "cv2.imshow(\"Original\", image)\n",
    "cv2.imshow(\"Binary\", binary)\n",
    "for name, img in operations.items():\n",
    "    cv2.imshow(name, img)\n",
    "cv2.imshow(\"Best Annotated\", annotated)\n",
    "\n",
    "cv2.waitKey(0)\n",
    "cv2.destroyAllWindows()\n"
   ]
  }
 ],
 "metadata": {
  "kernelspec": {
   "display_name": "Python 3 (ipykernel)",
   "language": "python",
   "name": "python3"
  },
  "language_info": {
   "codemirror_mode": {
    "name": "ipython",
    "version": 3
   },
   "file_extension": ".py",
   "mimetype": "text/x-python",
   "name": "python",
   "nbconvert_exporter": "python",
   "pygments_lexer": "ipython3",
   "version": "3.13.1"
  }
 },
 "nbformat": 4,
 "nbformat_minor": 5
}
