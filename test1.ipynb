{
 "cells": [
  {
   "cell_type": "code",
   "execution_count": null,
   "id": "495b44e5-61ee-4f49-9536-ac3e31da6dff",
   "metadata": {},
   "outputs": [
    {
     "name": "stdout",
     "output_type": "stream",
     "text": [
      "Eroded -> SSIM: 0.3159, IoU: 0.5024\n",
      "Dilated -> SSIM: 0.3904, IoU: 0.5912\n",
      "Opened -> SSIM: 0.5746, IoU: 0.7687\n",
      "Closed -> SSIM: 0.3904, IoU: 0.5912\n",
      "\n",
      "✅ Most accurate result for fingerprint recognition: Opened (SSIM: 0.5746, IoU: 0.7687)\n"
     ]
    }
   ],
   "source": [
    "import cv2\n",
    "import numpy as np\n",
    "from skimage.metrics import structural_similarity as ssim\n",
    "from sklearn.metrics import jaccard_score\n",
    "\n",
    "# Load the grayscale fingerprint image\n",
    "image = cv2.imread('img1.png', cv2.IMREAD_GRAYSCALE)\n",
    "if image is None:\n",
    "    raise FileNotFoundError(\"Error: 'img1.png' not found.\")\n",
    "\n",
    "# Convert to binary\n",
    "_, binary = cv2.threshold(image, 127, 255, cv2.THRESH_BINARY)\n",
    "\n",
    "# Define kernel for morphological operations\n",
    "kernel = np.ones((3, 3), np.uint8)\n",
    "\n",
    "# Apply morphological operations\n",
    "operations = {\n",
    "    \"Eroded\": cv2.erode(binary, kernel, iterations=1),\n",
    "    \"Dilated\": cv2.dilate(binary, kernel, iterations=1),\n",
    "    \"Opened\": cv2.morphologyEx(binary, cv2.MORPH_OPEN, kernel),\n",
    "    \"Closed\": cv2.dilate(cv2.morphologyEx(binary, cv2.MORPH_CLOSE, kernel), kernel, iterations=1),\n",
    "\n",
    "}\n",
    "\n",
    "# Evaluation function\n",
    "def evaluate(img, gt):\n",
    "    result_flat = img.flatten() // 255\n",
    "    gt_flat = gt.flatten() // 255\n",
    "    ssim_score = ssim(gt, img)\n",
    "    iou_score = jaccard_score(gt_flat, result_flat)\n",
    "    return ssim_score, iou_score\n",
    "\n",
    "# Evaluate all processed results\n",
    "scores = {}\n",
    "for name, img in operations.items():\n",
    "    ssim_score, iou_score = evaluate(img, binary)\n",
    "    scores[name] = (ssim_score, iou_score)\n",
    "    print(f\"{name} -> SSIM: {ssim_score:.4f}, IoU: {iou_score:.4f}\")\n",
    "\n",
    "# Identify the best match based on SSIM and IoU\n",
    "best_name, (best_ssim, best_iou) = max(scores.items(), key=lambda x: (x[1][0], x[1][1]))\n",
    "best_img = operations[best_name]\n",
    "print(f\"\\n✅ Most accurate result for fingerprint recognition: {best_name} (SSIM: {best_ssim:.4f}, IoU: {best_iou:.4f})\")\n",
    "\n",
    "# Annotate the best result\n",
    "annotated = cv2.cvtColor(best_img, cv2.COLOR_GRAY2BGR)\n",
    "cv2.putText(annotated, f\"Best: {best_name}\", (10, 25),\n",
    "            cv2.FONT_HERSHEY_SIMPLEX, 0.7, (0, 0, 255), 2)\n",
    "\n",
    "# Convert original to BGR for side-by-side comparison\n",
    "original_color = cv2.cvtColor(image, cv2.COLOR_GRAY2BGR)\n",
    "cv2.putText(original_color, \"Original\", (10, 25),\n",
    "            cv2.FONT_HERSHEY_SIMPLEX, 0.7, (255, 0, 0), 2)\n",
    "\n",
    "# Stack images side by side\n",
    "comparison = np.hstack((original_color, annotated))\n",
    "\n",
    "# Show comparison\n",
    "cv2.imshow(\"Fingerprint Comparison: Original vs Best Processed\", comparison)\n",
    "\n",
    "# Optionally show individual processed images\n",
    "for name, img in operations.items():\n",
    "    cv2.imshow(name, img)\n",
    "\n",
    "cv2.waitKey(0)\n",
    "cv2.destroyAllWindows()\n"
   ]
  },
  {
   "cell_type": "code",
   "execution_count": null,
   "id": "97ab34c5-70a3-468d-b5cf-75d73fad55ff",
   "metadata": {},
   "outputs": [],
   "source": []
  }
 ],
 "metadata": {
  "kernelspec": {
   "display_name": "Python 3 (ipykernel)",
   "language": "python",
   "name": "python3"
  },
  "language_info": {
   "codemirror_mode": {
    "name": "ipython",
    "version": 3
   },
   "file_extension": ".py",
   "mimetype": "text/x-python",
   "name": "python",
   "nbconvert_exporter": "python",
   "pygments_lexer": "ipython3",
   "version": "3.13.1"
  }
 },
 "nbformat": 4,
 "nbformat_minor": 5
}
